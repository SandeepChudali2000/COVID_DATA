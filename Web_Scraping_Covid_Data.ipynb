{
  "cells": [
    {
      "cell_type": "markdown",
      "metadata": {
        "id": "view-in-github",
        "colab_type": "text"
      },
      "source": [
        "<a href=\"https://colab.research.google.com/github/SandeepChudali2000/COVID_DATA/blob/main/Web_Scraping_Covid_Data.ipynb\" target=\"_parent\"><img src=\"https://colab.research.google.com/assets/colab-badge.svg\" alt=\"Open In Colab\"/></a>"
      ]
    },
    {
      "cell_type": "code",
      "execution_count": null,
      "id": "be389f37",
      "metadata": {
        "id": "be389f37"
      },
      "outputs": [],
      "source": [
        "import requests\n",
        "from bs4 import BeautifulSoup\n",
        "import pandas as pd\n",
        "import matplotlib.pyplot as plt\n",
        "import seaborn as sns\n",
        "import sqlite3"
      ]
    },
    {
      "cell_type": "code",
      "execution_count": null,
      "id": "634add88",
      "metadata": {
        "id": "634add88"
      },
      "outputs": [],
      "source": [
        "url = 'https://www.worldometers.info/coronavirus/'\n"
      ]
    },
    {
      "cell_type": "code",
      "execution_count": null,
      "id": "c9b40fb8",
      "metadata": {
        "id": "c9b40fb8"
      },
      "outputs": [],
      "source": [
        "html =  requests.get(url).text\n"
      ]
    },
    {
      "cell_type": "code",
      "execution_count": null,
      "id": "5b617f15",
      "metadata": {
        "id": "5b617f15"
      },
      "outputs": [],
      "source": [
        "soup = BeautifulSoup(html,'html.parser')"
      ]
    },
    {
      "cell_type": "code",
      "execution_count": null,
      "id": "67fc2052",
      "metadata": {
        "id": "67fc2052"
      },
      "outputs": [],
      "source": [
        "tbody = soup.find('tbody')"
      ]
    },
    {
      "cell_type": "code",
      "execution_count": null,
      "id": "10e6473a",
      "metadata": {
        "id": "10e6473a"
      },
      "outputs": [],
      "source": [
        "tr = tbody.find_all('tr')\n"
      ]
    },
    {
      "cell_type": "code",
      "execution_count": null,
      "id": "46fb6e32",
      "metadata": {
        "id": "46fb6e32"
      },
      "outputs": [],
      "source": [
        "complete_data=[]\n",
        "for item in range(8,len(tr)):\n",
        "    country_data=[]\n",
        "    td=tr[item].find_all('td')# one table row has multiple table data\n",
        "    for item in td:\n",
        "        #print(item.text)\n",
        "        country_data.append(item.text)# extract data of each country\n",
        "    complete_data.append(country_data) # append data of each country on a list"
      ]
    },
    {
      "cell_type": "code",
      "execution_count": null,
      "id": "c93ebe53",
      "metadata": {
        "id": "c93ebe53"
      },
      "outputs": [],
      "source": [
        "clean_data = list(map(lambda x:x[1:10],complete_data))"
      ]
    },
    {
      "cell_type": "code",
      "execution_count": null,
      "id": "77e60e0c",
      "metadata": {
        "id": "77e60e0c"
      },
      "outputs": [],
      "source": [
        "data_frame = pd.DataFrame(clean_data)"
      ]
    },
    {
      "cell_type": "code",
      "execution_count": null,
      "id": "3461eb52",
      "metadata": {
        "id": "3461eb52",
        "outputId": "f56bd3c0-1dca-4b8f-d793-c0fcbd31e4df"
      },
      "outputs": [
        {
          "data": {
            "text/html": [
              "<div>\n",
              "<style scoped>\n",
              "    .dataframe tbody tr th:only-of-type {\n",
              "        vertical-align: middle;\n",
              "    }\n",
              "\n",
              "    .dataframe tbody tr th {\n",
              "        vertical-align: top;\n",
              "    }\n",
              "\n",
              "    .dataframe thead th {\n",
              "        text-align: right;\n",
              "    }\n",
              "</style>\n",
              "<table border=\"1\" class=\"dataframe\">\n",
              "  <thead>\n",
              "    <tr style=\"text-align: right;\">\n",
              "      <th></th>\n",
              "      <th>0</th>\n",
              "      <th>1</th>\n",
              "      <th>2</th>\n",
              "      <th>3</th>\n",
              "      <th>4</th>\n",
              "      <th>5</th>\n",
              "      <th>6</th>\n",
              "      <th>7</th>\n",
              "      <th>8</th>\n",
              "    </tr>\n",
              "  </thead>\n",
              "  <tbody>\n",
              "    <tr>\n",
              "      <th>0</th>\n",
              "      <td>USA</td>\n",
              "      <td>101,213,638</td>\n",
              "      <td></td>\n",
              "      <td>1,109,394</td>\n",
              "      <td></td>\n",
              "      <td>98,461,586</td>\n",
              "      <td></td>\n",
              "      <td>1,642,658</td>\n",
              "      <td>3,746</td>\n",
              "    </tr>\n",
              "    <tr>\n",
              "      <th>1</th>\n",
              "      <td>India</td>\n",
              "      <td>44,675,509</td>\n",
              "      <td></td>\n",
              "      <td>530,653</td>\n",
              "      <td></td>\n",
              "      <td>44,139,558</td>\n",
              "      <td></td>\n",
              "      <td>5,298</td>\n",
              "      <td>698</td>\n",
              "    </tr>\n",
              "    <tr>\n",
              "      <th>2</th>\n",
              "      <td>France</td>\n",
              "      <td>38,331,430</td>\n",
              "      <td></td>\n",
              "      <td>159,517</td>\n",
              "      <td></td>\n",
              "      <td>37,128,030</td>\n",
              "      <td></td>\n",
              "      <td>1,043,883</td>\n",
              "      <td>869</td>\n",
              "    </tr>\n",
              "    <tr>\n",
              "      <th>3</th>\n",
              "      <td>Germany</td>\n",
              "      <td>36,726,061</td>\n",
              "      <td></td>\n",
              "      <td>158,851</td>\n",
              "      <td></td>\n",
              "      <td>36,042,800</td>\n",
              "      <td>+27,000</td>\n",
              "      <td>524,410</td>\n",
              "      <td>1,406</td>\n",
              "    </tr>\n",
              "    <tr>\n",
              "      <th>4</th>\n",
              "      <td>Brazil</td>\n",
              "      <td>35,563,044</td>\n",
              "      <td></td>\n",
              "      <td>690,739</td>\n",
              "      <td></td>\n",
              "      <td>34,354,889</td>\n",
              "      <td></td>\n",
              "      <td>517,416</td>\n",
              "      <td>8,318</td>\n",
              "    </tr>\n",
              "    <tr>\n",
              "      <th>...</th>\n",
              "      <td>...</td>\n",
              "      <td>...</td>\n",
              "      <td>...</td>\n",
              "      <td>...</td>\n",
              "      <td>...</td>\n",
              "      <td>...</td>\n",
              "      <td>...</td>\n",
              "      <td>...</td>\n",
              "      <td>...</td>\n",
              "    </tr>\n",
              "    <tr>\n",
              "      <th>225</th>\n",
              "      <td>Niue</td>\n",
              "      <td>187</td>\n",
              "      <td></td>\n",
              "      <td></td>\n",
              "      <td></td>\n",
              "      <td>132</td>\n",
              "      <td></td>\n",
              "      <td>55</td>\n",
              "      <td></td>\n",
              "    </tr>\n",
              "    <tr>\n",
              "      <th>226</th>\n",
              "      <td>Vatican City</td>\n",
              "      <td>29</td>\n",
              "      <td></td>\n",
              "      <td></td>\n",
              "      <td></td>\n",
              "      <td>29</td>\n",
              "      <td></td>\n",
              "      <td>0</td>\n",
              "      <td></td>\n",
              "    </tr>\n",
              "    <tr>\n",
              "      <th>227</th>\n",
              "      <td>Western Sahara</td>\n",
              "      <td>10</td>\n",
              "      <td></td>\n",
              "      <td>1</td>\n",
              "      <td></td>\n",
              "      <td>9</td>\n",
              "      <td></td>\n",
              "      <td>0</td>\n",
              "      <td></td>\n",
              "    </tr>\n",
              "    <tr>\n",
              "      <th>228</th>\n",
              "      <td>MS Zaandam</td>\n",
              "      <td>9</td>\n",
              "      <td></td>\n",
              "      <td>2</td>\n",
              "      <td></td>\n",
              "      <td>7</td>\n",
              "      <td></td>\n",
              "      <td>0</td>\n",
              "      <td></td>\n",
              "    </tr>\n",
              "    <tr>\n",
              "      <th>229</th>\n",
              "      <td>China</td>\n",
              "      <td>357,652</td>\n",
              "      <td>+3,635</td>\n",
              "      <td>5,235</td>\n",
              "      <td></td>\n",
              "      <td>309,259</td>\n",
              "      <td>+3,743</td>\n",
              "      <td>43,158</td>\n",
              "      <td>143</td>\n",
              "    </tr>\n",
              "  </tbody>\n",
              "</table>\n",
              "<p>230 rows × 9 columns</p>\n",
              "</div>"
            ],
            "text/plain": [
              "                  0            1       2  \\\n",
              "0               USA  101,213,638           \n",
              "1             India   44,675,509           \n",
              "2            France   38,331,430           \n",
              "3           Germany   36,726,061           \n",
              "4            Brazil   35,563,044           \n",
              "..              ...          ...     ...   \n",
              "225            Niue          187           \n",
              "226    Vatican City           29           \n",
              "227  Western Sahara           10           \n",
              "228      MS Zaandam            9           \n",
              "229           China      357,652  +3,635   \n",
              "\n",
              "                                             3 4            5        6  \\\n",
              "0    1,109,394                                     98,461,586            \n",
              "1      530,653                                     44,139,558            \n",
              "2      159,517                                     37,128,030            \n",
              "3      158,851                                     36,042,800  +27,000   \n",
              "4      690,739                                     34,354,889            \n",
              "..                                         ... ..         ...      ...   \n",
              "225                                                       132            \n",
              "226                                                        29            \n",
              "227          1                                              9            \n",
              "228          2                                              7            \n",
              "229      5,235                                        309,259   +3,743   \n",
              "\n",
              "             7      8  \n",
              "0    1,642,658  3,746  \n",
              "1        5,298    698  \n",
              "2    1,043,883    869  \n",
              "3      524,410  1,406  \n",
              "4      517,416  8,318  \n",
              "..         ...    ...  \n",
              "225         55         \n",
              "226          0         \n",
              "227          0         \n",
              "228          0         \n",
              "229     43,158    143  \n",
              "\n",
              "[230 rows x 9 columns]"
            ]
          },
          "execution_count": 20,
          "metadata": {},
          "output_type": "execute_result"
        }
      ],
      "source": [
        "data_frame"
      ]
    },
    {
      "cell_type": "code",
      "execution_count": null,
      "id": "2094ab95",
      "metadata": {
        "id": "2094ab95"
      },
      "outputs": [],
      "source": [
        "col_name = ['C_name',\n",
        "          'T_Case',\n",
        "          'N_Case',\n",
        "          'D_Case',\n",
        "          'T_Recovered',\n",
        "          'N_Recovered',  \n",
        "         'A_Case',\n",
        "          'S_Case',\n",
        "          'Top_clases'\n",
        "         ]"
      ]
    },
    {
      "cell_type": "code",
      "execution_count": null,
      "id": "2fb32783",
      "metadata": {
        "id": "2fb32783"
      },
      "outputs": [],
      "source": [
        "data_frame.columns = col_name"
      ]
    },
    {
      "cell_type": "code",
      "execution_count": null,
      "id": "1e9581c0",
      "metadata": {
        "id": "1e9581c0",
        "outputId": "5ffe6461-04ff-45a7-89d9-01a523df2a93"
      },
      "outputs": [
        {
          "data": {
            "text/html": [
              "<div>\n",
              "<style scoped>\n",
              "    .dataframe tbody tr th:only-of-type {\n",
              "        vertical-align: middle;\n",
              "    }\n",
              "\n",
              "    .dataframe tbody tr th {\n",
              "        vertical-align: top;\n",
              "    }\n",
              "\n",
              "    .dataframe thead th {\n",
              "        text-align: right;\n",
              "    }\n",
              "</style>\n",
              "<table border=\"1\" class=\"dataframe\">\n",
              "  <thead>\n",
              "    <tr style=\"text-align: right;\">\n",
              "      <th></th>\n",
              "      <th>C_name</th>\n",
              "      <th>T_Case</th>\n",
              "      <th>N_Case</th>\n",
              "      <th>D_Case</th>\n",
              "      <th>T_Recovered</th>\n",
              "      <th>N_Recovered</th>\n",
              "      <th>A_Case</th>\n",
              "      <th>S_Case</th>\n",
              "      <th>Top_clases</th>\n",
              "    </tr>\n",
              "  </thead>\n",
              "  <tbody>\n",
              "    <tr>\n",
              "      <th>0</th>\n",
              "      <td>USA</td>\n",
              "      <td>101,213,638</td>\n",
              "      <td></td>\n",
              "      <td>1,109,394</td>\n",
              "      <td></td>\n",
              "      <td>98,461,586</td>\n",
              "      <td></td>\n",
              "      <td>1,642,658</td>\n",
              "      <td>3,746</td>\n",
              "    </tr>\n",
              "    <tr>\n",
              "      <th>1</th>\n",
              "      <td>India</td>\n",
              "      <td>44,675,509</td>\n",
              "      <td></td>\n",
              "      <td>530,653</td>\n",
              "      <td></td>\n",
              "      <td>44,139,558</td>\n",
              "      <td></td>\n",
              "      <td>5,298</td>\n",
              "      <td>698</td>\n",
              "    </tr>\n",
              "    <tr>\n",
              "      <th>2</th>\n",
              "      <td>France</td>\n",
              "      <td>38,331,430</td>\n",
              "      <td></td>\n",
              "      <td>159,517</td>\n",
              "      <td></td>\n",
              "      <td>37,128,030</td>\n",
              "      <td></td>\n",
              "      <td>1,043,883</td>\n",
              "      <td>869</td>\n",
              "    </tr>\n",
              "    <tr>\n",
              "      <th>3</th>\n",
              "      <td>Germany</td>\n",
              "      <td>36,726,061</td>\n",
              "      <td></td>\n",
              "      <td>158,851</td>\n",
              "      <td></td>\n",
              "      <td>36,042,800</td>\n",
              "      <td>+27,000</td>\n",
              "      <td>524,410</td>\n",
              "      <td>1,406</td>\n",
              "    </tr>\n",
              "    <tr>\n",
              "      <th>4</th>\n",
              "      <td>Brazil</td>\n",
              "      <td>35,563,044</td>\n",
              "      <td></td>\n",
              "      <td>690,739</td>\n",
              "      <td></td>\n",
              "      <td>34,354,889</td>\n",
              "      <td></td>\n",
              "      <td>517,416</td>\n",
              "      <td>8,318</td>\n",
              "    </tr>\n",
              "  </tbody>\n",
              "</table>\n",
              "</div>"
            ],
            "text/plain": [
              "    C_name       T_Case N_Case                                     D_Case  \\\n",
              "0      USA  101,213,638         1,109,394                                   \n",
              "1    India   44,675,509           530,653                                   \n",
              "2   France   38,331,430           159,517                                   \n",
              "3  Germany   36,726,061           158,851                                   \n",
              "4   Brazil   35,563,044           690,739                                   \n",
              "\n",
              "  T_Recovered N_Recovered   A_Case     S_Case Top_clases  \n",
              "0              98,461,586           1,642,658      3,746  \n",
              "1              44,139,558               5,298        698  \n",
              "2              37,128,030           1,043,883        869  \n",
              "3              36,042,800  +27,000    524,410      1,406  \n",
              "4              34,354,889             517,416      8,318  "
            ]
          },
          "execution_count": 39,
          "metadata": {},
          "output_type": "execute_result"
        }
      ],
      "source": [
        "data_frame.head()"
      ]
    },
    {
      "cell_type": "code",
      "execution_count": null,
      "id": "ddcb0e5b",
      "metadata": {
        "id": "ddcb0e5b"
      },
      "outputs": [],
      "source": [
        "data_frame.to_csv('covid-live-dec7.csv',index=False)"
      ]
    },
    {
      "cell_type": "code",
      "execution_count": null,
      "id": "13aad33e",
      "metadata": {
        "id": "13aad33e"
      },
      "outputs": [],
      "source": [
        "file_name='covid-live-dec7.csv'"
      ]
    },
    {
      "cell_type": "code",
      "execution_count": null,
      "id": "4bf2e321",
      "metadata": {
        "id": "4bf2e321"
      },
      "outputs": [],
      "source": [
        "covid_data=pd.read_csv(file_name)"
      ]
    },
    {
      "cell_type": "code",
      "execution_count": null,
      "id": "748073cf",
      "metadata": {
        "id": "748073cf",
        "outputId": "16ad7f87-535b-4031-f488-98cfa2a8386e"
      },
      "outputs": [
        {
          "data": {
            "text/html": [
              "<div>\n",
              "<style scoped>\n",
              "    .dataframe tbody tr th:only-of-type {\n",
              "        vertical-align: middle;\n",
              "    }\n",
              "\n",
              "    .dataframe tbody tr th {\n",
              "        vertical-align: top;\n",
              "    }\n",
              "\n",
              "    .dataframe thead th {\n",
              "        text-align: right;\n",
              "    }\n",
              "</style>\n",
              "<table border=\"1\" class=\"dataframe\">\n",
              "  <thead>\n",
              "    <tr style=\"text-align: right;\">\n",
              "      <th></th>\n",
              "      <th>C_name</th>\n",
              "      <th>T_Case</th>\n",
              "      <th>N_Case</th>\n",
              "      <th>D_Case</th>\n",
              "      <th>T_Recovered</th>\n",
              "      <th>N_Recovered</th>\n",
              "      <th>A_Case</th>\n",
              "      <th>S_Case</th>\n",
              "      <th>Top_clases</th>\n",
              "    </tr>\n",
              "  </thead>\n",
              "  <tbody>\n",
              "    <tr>\n",
              "      <th>0</th>\n",
              "      <td>USA</td>\n",
              "      <td>101,213,638</td>\n",
              "      <td>NaN</td>\n",
              "      <td>1,109,394</td>\n",
              "      <td>NaN</td>\n",
              "      <td>98,461,586</td>\n",
              "      <td>NaN</td>\n",
              "      <td>1,642,658</td>\n",
              "      <td>3,746</td>\n",
              "    </tr>\n",
              "    <tr>\n",
              "      <th>1</th>\n",
              "      <td>India</td>\n",
              "      <td>44,675,509</td>\n",
              "      <td>NaN</td>\n",
              "      <td>530,653</td>\n",
              "      <td>NaN</td>\n",
              "      <td>44,139,558</td>\n",
              "      <td>NaN</td>\n",
              "      <td>5,298</td>\n",
              "      <td>698</td>\n",
              "    </tr>\n",
              "    <tr>\n",
              "      <th>2</th>\n",
              "      <td>France</td>\n",
              "      <td>38,331,430</td>\n",
              "      <td>NaN</td>\n",
              "      <td>159,517</td>\n",
              "      <td>NaN</td>\n",
              "      <td>37,128,030</td>\n",
              "      <td>NaN</td>\n",
              "      <td>1,043,883</td>\n",
              "      <td>869</td>\n",
              "    </tr>\n",
              "    <tr>\n",
              "      <th>3</th>\n",
              "      <td>Germany</td>\n",
              "      <td>36,726,061</td>\n",
              "      <td>NaN</td>\n",
              "      <td>158,851</td>\n",
              "      <td>NaN</td>\n",
              "      <td>36,042,800</td>\n",
              "      <td>+27,000</td>\n",
              "      <td>524,410</td>\n",
              "      <td>1,406</td>\n",
              "    </tr>\n",
              "    <tr>\n",
              "      <th>4</th>\n",
              "      <td>Brazil</td>\n",
              "      <td>35,563,044</td>\n",
              "      <td>NaN</td>\n",
              "      <td>690,739</td>\n",
              "      <td>NaN</td>\n",
              "      <td>34,354,889</td>\n",
              "      <td>NaN</td>\n",
              "      <td>517,416</td>\n",
              "      <td>8,318</td>\n",
              "    </tr>\n",
              "  </tbody>\n",
              "</table>\n",
              "</div>"
            ],
            "text/plain": [
              "    C_name       T_Case N_Case                                     D_Case  \\\n",
              "0      USA  101,213,638    NaN  1,109,394                                   \n",
              "1    India   44,675,509    NaN    530,653                                   \n",
              "2   France   38,331,430    NaN    159,517                                   \n",
              "3  Germany   36,726,061    NaN    158,851                                   \n",
              "4   Brazil   35,563,044    NaN    690,739                                   \n",
              "\n",
              "   T_Recovered N_Recovered   A_Case     S_Case Top_clases  \n",
              "0          NaN  98,461,586      NaN  1,642,658      3,746  \n",
              "1          NaN  44,139,558      NaN      5,298        698  \n",
              "2          NaN  37,128,030      NaN  1,043,883        869  \n",
              "3          NaN  36,042,800  +27,000    524,410      1,406  \n",
              "4          NaN  34,354,889      NaN    517,416      8,318  "
            ]
          },
          "execution_count": 27,
          "metadata": {},
          "output_type": "execute_result"
        }
      ],
      "source": [
        "covid_data.head()"
      ]
    },
    {
      "cell_type": "code",
      "execution_count": null,
      "id": "e0682d78",
      "metadata": {
        "id": "e0682d78",
        "outputId": "3645cad4-a300-436a-9f4c-902db9377764"
      },
      "outputs": [
        {
          "data": {
            "text/html": [
              "<div>\n",
              "<style scoped>\n",
              "    .dataframe tbody tr th:only-of-type {\n",
              "        vertical-align: middle;\n",
              "    }\n",
              "\n",
              "    .dataframe tbody tr th {\n",
              "        vertical-align: top;\n",
              "    }\n",
              "\n",
              "    .dataframe thead th {\n",
              "        text-align: right;\n",
              "    }\n",
              "</style>\n",
              "<table border=\"1\" class=\"dataframe\">\n",
              "  <thead>\n",
              "    <tr style=\"text-align: right;\">\n",
              "      <th></th>\n",
              "      <th>C_name</th>\n",
              "      <th>T_Case</th>\n",
              "      <th>N_Case</th>\n",
              "      <th>D_Case</th>\n",
              "      <th>T_Recovered</th>\n",
              "      <th>N_Recovered</th>\n",
              "      <th>A_Case</th>\n",
              "      <th>S_Case</th>\n",
              "      <th>Top_clases</th>\n",
              "    </tr>\n",
              "  </thead>\n",
              "  <tbody>\n",
              "    <tr>\n",
              "      <th>0</th>\n",
              "      <td>False</td>\n",
              "      <td>False</td>\n",
              "      <td>True</td>\n",
              "      <td>False</td>\n",
              "      <td>True</td>\n",
              "      <td>False</td>\n",
              "      <td>True</td>\n",
              "      <td>False</td>\n",
              "      <td>False</td>\n",
              "    </tr>\n",
              "    <tr>\n",
              "      <th>1</th>\n",
              "      <td>False</td>\n",
              "      <td>False</td>\n",
              "      <td>True</td>\n",
              "      <td>False</td>\n",
              "      <td>True</td>\n",
              "      <td>False</td>\n",
              "      <td>True</td>\n",
              "      <td>False</td>\n",
              "      <td>False</td>\n",
              "    </tr>\n",
              "    <tr>\n",
              "      <th>2</th>\n",
              "      <td>False</td>\n",
              "      <td>False</td>\n",
              "      <td>True</td>\n",
              "      <td>False</td>\n",
              "      <td>True</td>\n",
              "      <td>False</td>\n",
              "      <td>True</td>\n",
              "      <td>False</td>\n",
              "      <td>False</td>\n",
              "    </tr>\n",
              "    <tr>\n",
              "      <th>3</th>\n",
              "      <td>False</td>\n",
              "      <td>False</td>\n",
              "      <td>True</td>\n",
              "      <td>False</td>\n",
              "      <td>True</td>\n",
              "      <td>False</td>\n",
              "      <td>False</td>\n",
              "      <td>False</td>\n",
              "      <td>False</td>\n",
              "    </tr>\n",
              "    <tr>\n",
              "      <th>4</th>\n",
              "      <td>False</td>\n",
              "      <td>False</td>\n",
              "      <td>True</td>\n",
              "      <td>False</td>\n",
              "      <td>True</td>\n",
              "      <td>False</td>\n",
              "      <td>True</td>\n",
              "      <td>False</td>\n",
              "      <td>False</td>\n",
              "    </tr>\n",
              "    <tr>\n",
              "      <th>...</th>\n",
              "      <td>...</td>\n",
              "      <td>...</td>\n",
              "      <td>...</td>\n",
              "      <td>...</td>\n",
              "      <td>...</td>\n",
              "      <td>...</td>\n",
              "      <td>...</td>\n",
              "      <td>...</td>\n",
              "      <td>...</td>\n",
              "    </tr>\n",
              "    <tr>\n",
              "      <th>225</th>\n",
              "      <td>False</td>\n",
              "      <td>False</td>\n",
              "      <td>True</td>\n",
              "      <td>False</td>\n",
              "      <td>True</td>\n",
              "      <td>False</td>\n",
              "      <td>True</td>\n",
              "      <td>False</td>\n",
              "      <td>True</td>\n",
              "    </tr>\n",
              "    <tr>\n",
              "      <th>226</th>\n",
              "      <td>False</td>\n",
              "      <td>False</td>\n",
              "      <td>True</td>\n",
              "      <td>False</td>\n",
              "      <td>True</td>\n",
              "      <td>False</td>\n",
              "      <td>True</td>\n",
              "      <td>False</td>\n",
              "      <td>True</td>\n",
              "    </tr>\n",
              "    <tr>\n",
              "      <th>227</th>\n",
              "      <td>False</td>\n",
              "      <td>False</td>\n",
              "      <td>True</td>\n",
              "      <td>False</td>\n",
              "      <td>True</td>\n",
              "      <td>False</td>\n",
              "      <td>True</td>\n",
              "      <td>False</td>\n",
              "      <td>True</td>\n",
              "    </tr>\n",
              "    <tr>\n",
              "      <th>228</th>\n",
              "      <td>False</td>\n",
              "      <td>False</td>\n",
              "      <td>True</td>\n",
              "      <td>False</td>\n",
              "      <td>True</td>\n",
              "      <td>False</td>\n",
              "      <td>True</td>\n",
              "      <td>False</td>\n",
              "      <td>True</td>\n",
              "    </tr>\n",
              "    <tr>\n",
              "      <th>229</th>\n",
              "      <td>False</td>\n",
              "      <td>False</td>\n",
              "      <td>False</td>\n",
              "      <td>False</td>\n",
              "      <td>True</td>\n",
              "      <td>False</td>\n",
              "      <td>False</td>\n",
              "      <td>False</td>\n",
              "      <td>False</td>\n",
              "    </tr>\n",
              "  </tbody>\n",
              "</table>\n",
              "<p>230 rows × 9 columns</p>\n",
              "</div>"
            ],
            "text/plain": [
              "     C_name  T_Case  N_Case  D_Case  T_Recovered  N_Recovered  A_Case  S_Case  \\\n",
              "0     False   False    True   False         True        False    True   False   \n",
              "1     False   False    True   False         True        False    True   False   \n",
              "2     False   False    True   False         True        False    True   False   \n",
              "3     False   False    True   False         True        False   False   False   \n",
              "4     False   False    True   False         True        False    True   False   \n",
              "..      ...     ...     ...     ...          ...          ...     ...     ...   \n",
              "225   False   False    True   False         True        False    True   False   \n",
              "226   False   False    True   False         True        False    True   False   \n",
              "227   False   False    True   False         True        False    True   False   \n",
              "228   False   False    True   False         True        False    True   False   \n",
              "229   False   False   False   False         True        False   False   False   \n",
              "\n",
              "     Top_clases  \n",
              "0         False  \n",
              "1         False  \n",
              "2         False  \n",
              "3         False  \n",
              "4         False  \n",
              "..          ...  \n",
              "225        True  \n",
              "226        True  \n",
              "227        True  \n",
              "228        True  \n",
              "229       False  \n",
              "\n",
              "[230 rows x 9 columns]"
            ]
          },
          "execution_count": 28,
          "metadata": {},
          "output_type": "execute_result"
        }
      ],
      "source": [
        "covid_data.isna()"
      ]
    },
    {
      "cell_type": "code",
      "execution_count": null,
      "id": "6e0572ee",
      "metadata": {
        "id": "6e0572ee",
        "outputId": "00090a10-5c51-4e4b-9dc3-23f551cd307b"
      },
      "outputs": [
        {
          "data": {
            "text/plain": [
              "C_name           0\n",
              "T_Case           0\n",
              "N_Case         224\n",
              "D_Case           0\n",
              "T_Recovered    227\n",
              "N_Recovered     20\n",
              "A_Case         219\n",
              "S_Case          19\n",
              "Top_clases      90\n",
              "dtype: int64"
            ]
          },
          "execution_count": 29,
          "metadata": {},
          "output_type": "execute_result"
        }
      ],
      "source": [
        "missing=covid_data.isna().sum()\n",
        "missing"
      ]
    },
    {
      "cell_type": "code",
      "execution_count": null,
      "id": "5e813031",
      "metadata": {
        "id": "5e813031",
        "outputId": "ca0d830e-bd22-47ea-c657-1b76bd7b100d"
      },
      "outputs": [
        {
          "data": {
            "text/plain": [
              "<AxesSubplot: >"
            ]
          },
          "execution_count": 30,
          "metadata": {},
          "output_type": "execute_result"
        },
        {
          "data": {
            "image/png": "[encoded data removed]",
            "text/plain": [
              "<Figure size 640x480 with 1 Axes>"
            ]
          },
          "metadata": {},
          "output_type": "display_data"
        }
      ],
      "source": [
        "missing.plot.bar()"
      ]
    },
    {
      "cell_type": "code",
      "execution_count": null,
      "id": "1a58c583",
      "metadata": {
        "id": "1a58c583",
        "outputId": "97fbefd7-e292-45cb-f917-7aa69103d0ea"
      },
      "outputs": [
        {
          "data": {
            "text/plain": [
              "<BarContainer object of 9 artists>"
            ]
          },
          "execution_count": 31,
          "metadata": {},
          "output_type": "execute_result"
        },
        {
          "data": {
            "image/png": "[encoded data removed]",
            "text/plain": [
              "<Figure size 640x480 with 1 Axes>"
            ]
          },
          "metadata": {},
          "output_type": "display_data"
        }
      ],
      "source": [
        "plt.figuresize=(15,5)\n",
        "plt.bar(x = missing.index, height = missing.values)"
      ]
    },
    {
      "cell_type": "code",
      "execution_count": null,
      "id": "0933a768",
      "metadata": {
        "id": "0933a768",
        "outputId": "d168c5ad-93ba-4db2-82ca-fd322e1a58e2"
      },
      "outputs": [
        {
          "data": {
            "text/plain": [
              "<AxesSubplot: >"
            ]
          },
          "execution_count": 32,
          "metadata": {},
          "output_type": "execute_result"
        },
        {
          "data": {
            "image/png": "[encoded data removed]",
            "text/plain": [
              "<Figure size 640x480 with 1 Axes>"
            ]
          },
          "metadata": {},
          "output_type": "display_data"
        }
      ],
      "source": [
        "sns.barplot(x=missing.index , y=missing.values)"
      ]
    },
    {
      "cell_type": "code",
      "execution_count": null,
      "id": "9d0849b4",
      "metadata": {
        "id": "9d0849b4",
        "outputId": "c46b68ad-f88f-496b-88be-6a1fce4a169f"
      },
      "outputs": [
        {
          "data": {
            "text/plain": [
              "<AxesSubplot: >"
            ]
          },
          "execution_count": 33,
          "metadata": {},
          "output_type": "execute_result"
        },
        {
          "data": {
            "image/png": "[encoded data removed]",
            "text/plain": [
              "<Figure size 640x480 with 2 Axes>"
            ]
          },
          "metadata": {},
          "output_type": "display_data"
        }
      ],
      "source": [
        "sns.heatmap(covid_data.isna().transpose())"
      ]
    }
  ],
  "metadata": {
    "kernelspec": {
      "display_name": "Python 3 (ipykernel)",
      "language": "python",
      "name": "python3"
    },
    "language_info": {
      "codemirror_mode": {
        "name": "ipython",
        "version": 3
      },
      "file_extension": ".py",
      "mimetype": "text/x-python",
      "name": "python",
      "nbconvert_exporter": "python",
      "pygments_lexer": "ipython3",
      "version": "3.8.10"
    },
    "colab": {
      "provenance": [],
      "toc_visible": true,
      "include_colab_link": true
    }
  },
  "nbformat": 4,
  "nbformat_minor": 5
}